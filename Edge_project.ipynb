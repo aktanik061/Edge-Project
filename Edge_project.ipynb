{
  "nbformat": 4,
  "nbformat_minor": 0,
  "metadata": {
    "colab": {
      "provenance": [],
      "mount_file_id": "1H-sHiDJDYeaqfV5r0i-3DsPLlevarfzI",
      "authorship_tag": "ABX9TyOFbIqx2zfytqie7hZH+I/b",
      "include_colab_link": true
    },
    "kernelspec": {
      "name": "python3",
      "display_name": "Python 3"
    },
    "language_info": {
      "name": "python"
    }
  },
  "cells": [
    {
      "cell_type": "markdown",
      "metadata": {
        "id": "view-in-github",
        "colab_type": "text"
      },
      "source": [
        "<a href=\"https://colab.research.google.com/github/aktanik061/Edge-Project/blob/main/Edge_project.ipynb\" target=\"_parent\"><img src=\"https://colab.research.google.com/assets/colab-badge.svg\" alt=\"Open In Colab\"/></a>"
      ]
    },
    {
      "cell_type": "code",
      "execution_count": 3,
      "metadata": {
        "id": "GOA6u_aVSIbD"
      },
      "outputs": [],
      "source": [
        "import pandas as pd"
      ]
    },
    {
      "cell_type": "code",
      "source": [
        "from google.colab import drive\n",
        "drive.mount(\"/content/drive\")"
      ],
      "metadata": {
        "colab": {
          "base_uri": "https://localhost:8080/"
        },
        "id": "EkCZmEbGht2p",
        "outputId": "e3cba9bb-4d6f-456f-e8e8-af25a83e48e6"
      },
      "execution_count": 2,
      "outputs": [
        {
          "output_type": "stream",
          "name": "stdout",
          "text": [
            "Drive already mounted at /content/drive; to attempt to forcibly remount, call drive.mount(\"/content/drive\", force_remount=True).\n"
          ]
        }
      ]
    },
    {
      "cell_type": "code",
      "source": [
        "path=\"/content/drive/MyDrive/student_detail/student_detail.csv\"\n",
        "df=pd.read_csv(path)\n",
        "pd.set_option('display.max_rows', None)\n",
        "print(df)"
      ],
      "metadata": {
        "colab": {
          "base_uri": "https://localhost:8080/"
        },
        "id": "OLa1vuyhS7eD",
        "outputId": "2be5d19a-0b78-41b7-aa99-bac3c8bcbd45"
      },
      "execution_count": 18,
      "outputs": [
        {
          "output_type": "stream",
          "name": "stdout",
          "text": [
            "        Name     ID  Bangla  English   Math  Attendence(%)  \\\n",
            "0      Sakil  20234      56        77    86             90   \n",
            "1      Wasif  20235      34        88    70             80   \n",
            "2       Amin  20236      67        55    67             90   \n",
            "3       Saif  20237      88        83    90            100   \n",
            "4      Sohan  20238      90        33    88             70   \n",
            "5     Saikat  20239      80        24    92             80   \n",
            "6   Solaiman  20240      78        66    79             90   \n",
            "7      Faria  20241      45        50    83            100   \n",
            "8    Madhuri  20242      67        40    36             50   \n",
            "9   Priyanka  20243      69        65    68             80   \n",
            "10    Sristi  20244      75        20    24             65   \n",
            "\n",
            "   Assignment completion  \n",
            "0                    Yes  \n",
            "1                    Yes  \n",
            "2                     No  \n",
            "3                    Yes  \n",
            "4                     No  \n",
            "5                    Yes  \n",
            "6                     No  \n",
            "7                     No  \n",
            "8                    Yes  \n",
            "9                    Yes  \n",
            "10                    No  \n"
          ]
        }
      ]
    },
    {
      "cell_type": "code",
      "source": [
        "import pandas as pd\n",
        "\n",
        "\n",
        "file_path = '/content/drive/MyDrive/student_detail/student_detail.csv'\n",
        "df = pd.read_csv(file_path)\n",
        "\n",
        "df['Average Score'] = df[['Bangla', 'Math']].mean(axis=1)\n",
        "\n",
        "print(df[['Name', 'ID', 'Average Score']])"
      ],
      "metadata": {
        "colab": {
          "base_uri": "https://localhost:8080/"
        },
        "id": "YL_9YE9SUtPr",
        "outputId": "d90cce38-c812-4c46-f8dd-5908b06ce4f5"
      },
      "execution_count": 22,
      "outputs": [
        {
          "output_type": "stream",
          "name": "stdout",
          "text": [
            "        Name     ID  Average Score\n",
            "0      Sakil  20234           71.0\n",
            "1      Wasif  20235           52.0\n",
            "2       Amin  20236           67.0\n",
            "3       Saif  20237           89.0\n",
            "4      Sohan  20238           89.0\n",
            "5     Saikat  20239           86.0\n",
            "6   Solaiman  20240           78.5\n",
            "7      Faria  20241           64.0\n",
            "8    Madhuri  20242           51.5\n",
            "9   Priyanka  20243           68.5\n",
            "10    Sristi  20244           49.5\n"
          ]
        }
      ]
    },
    {
      "cell_type": "code",
      "source": [
        "df['Maximum'] = df[['Bangla','Math']].max(axis=1)\n",
        "\n",
        "print(df[['Name','ID','Maximum']])"
      ],
      "metadata": {
        "colab": {
          "base_uri": "https://localhost:8080/"
        },
        "id": "k9NeV58yVZYZ",
        "outputId": "916557c4-00b2-424d-cab6-a8192277bf66"
      },
      "execution_count": 25,
      "outputs": [
        {
          "output_type": "stream",
          "name": "stdout",
          "text": [
            "        Name     ID  Maximum\n",
            "0      Sakil  20234       86\n",
            "1      Wasif  20235       70\n",
            "2       Amin  20236       67\n",
            "3       Saif  20237       90\n",
            "4      Sohan  20238       90\n",
            "5     Saikat  20239       92\n",
            "6   Solaiman  20240       79\n",
            "7      Faria  20241       83\n",
            "8    Madhuri  20242       67\n",
            "9   Priyanka  20243       69\n",
            "10    Sristi  20244       75\n"
          ]
        }
      ]
    },
    {
      "cell_type": "code",
      "source": [
        "df['Minimum'] = df[['Bangla','Math']].min(axis=1)\n",
        "\n",
        "print(df[['Name','ID','Minimum']])"
      ],
      "metadata": {
        "colab": {
          "base_uri": "https://localhost:8080/"
        },
        "id": "dFhbLaOfVqLs",
        "outputId": "95795c46-6220-43e2-d999-2f7fbd24abc6"
      },
      "execution_count": 26,
      "outputs": [
        {
          "output_type": "stream",
          "name": "stdout",
          "text": [
            "        Name     ID  Minimum\n",
            "0      Sakil  20234       56\n",
            "1      Wasif  20235       34\n",
            "2       Amin  20236       67\n",
            "3       Saif  20237       88\n",
            "4      Sohan  20238       88\n",
            "5     Saikat  20239       80\n",
            "6   Solaiman  20240       78\n",
            "7      Faria  20241       45\n",
            "8    Madhuri  20242       36\n",
            "9   Priyanka  20243       68\n",
            "10    Sristi  20244       24\n"
          ]
        }
      ]
    },
    {
      "cell_type": "code",
      "source": [
        "\n",
        "import pandas as pd\n",
        "\n",
        "drive.mount('/content/drive')\n",
        "path = '/content/drive/MyDrive/student_detail/student_detail.csv'\n",
        "df = pd.read_csv(path)\n",
        "\n",
        "students_low_attendance_or_missing = df[(df['Attendence(%)'] < 75) | (df['Assignment completion'] == 'No')]\n",
        "\n",
        "print(\"Students with attendence less than 75%:\")\n",
        "print(students_low_attendance_or_missing)\n",
        "\n",
        "\n"
      ],
      "metadata": {
        "colab": {
          "base_uri": "https://localhost:8080/"
        },
        "id": "jGo7dwJbgpi1",
        "outputId": "f028ad3a-1431-4f8b-da70-a1078abbe338"
      },
      "execution_count": 27,
      "outputs": [
        {
          "output_type": "stream",
          "name": "stdout",
          "text": [
            "Drive already mounted at /content/drive; to attempt to forcibly remount, call drive.mount(\"/content/drive\", force_remount=True).\n",
            "Students with attendence less than 75%:\n",
            "        Name     ID  Bangla  English   Math  Attendence(%)  \\\n",
            "2       Amin  20236      67        55    67             90   \n",
            "4      Sohan  20238      90        33    88             70   \n",
            "6   Solaiman  20240      78        66    79             90   \n",
            "7      Faria  20241      45        50    83            100   \n",
            "8    Madhuri  20242      67        40    36             50   \n",
            "10    Sristi  20244      75        20    24             65   \n",
            "\n",
            "   Assignment completion  \n",
            "2                     No  \n",
            "4                     No  \n",
            "6                     No  \n",
            "7                     No  \n",
            "8                    Yes  \n",
            "10                    No  \n"
          ]
        }
      ]
    },
    {
      "cell_type": "code",
      "source": [
        "import pandas as pd\n",
        "drive.mount('/content/drive')\n",
        "path=\"/content/drive/MyDrive/student_detail/student_detail.csv\"\n",
        "df=pd.read_csv(path)\n",
        "\n",
        "Failed_student=df[df['Bangla'or'Math'] < 40]\n",
        "print(\"Failed student: \", Failed_student)"
      ],
      "metadata": {
        "colab": {
          "base_uri": "https://localhost:8080/"
        },
        "id": "5QBVC3h7L8X2",
        "outputId": "7a9cc30c-b459-4d16-f9a6-03aea16d1c6b"
      },
      "execution_count": 30,
      "outputs": [
        {
          "output_type": "stream",
          "name": "stdout",
          "text": [
            "Drive already mounted at /content/drive; to attempt to forcibly remount, call drive.mount(\"/content/drive\", force_remount=True).\n",
            "Failed student:      Name     ID  Bangla  English   Math  Attendence(%) Assignment completion\n",
            "1  Wasif  20235      34        88    70             80                   Yes\n"
          ]
        }
      ]
    },
    {
      "cell_type": "code",
      "source": [
        "import pandas as pd\n",
        "import matplotlib.pyplot as plt\n",
        "from google.colab import drive\n",
        "\n",
        "# Step 1: Mount Google Drive and Load Data\n",
        "drive.mount('/content/drive')\n",
        "path = \"/content/drive/MyDrive/student_detail/student_detail.csv\"\n",
        "df = pd.read_csv(path)\n",
        "\n",
        "# Step 2: Calculate Average Score\n",
        "average = df['Score'].mean()\n",
        "\n",
        "# Step 3: Plot the Single Average Score as a Bar\n",
        "# Here, we don't use index, just plot the average as a single bar.\n",
        "plt.figure(figsize=(8, 5))\n",
        "plt.bar('Average Score', average, color='blue')  # 'Average Score' is used as a label\n",
        "\n",
        "# Step 4: Customize the Chart\n",
        "plt.title('Average Score', fontsize=16)\n",
        "plt.xlabel('Metric', fontsize=12)\n",
        "plt.ylabel('Score', fontsize=12)\n",
        "plt.ylim(0, 100)  # Assuming scores are out of 100\n",
        "\n",
        "# Step 5: Display the Chart\n",
        "plt.tight_layout()\n",
        "plt.show()\n",
        "\n"
      ],
      "metadata": {
        "colab": {
          "base_uri": "https://localhost:8080/",
          "height": 524
        },
        "id": "RS4AszJyQPeY",
        "outputId": "80d0e996-c47b-4688-a4d8-f209a0ceced4"
      },
      "execution_count": 33,
      "outputs": [
        {
          "output_type": "stream",
          "name": "stdout",
          "text": [
            "Drive already mounted at /content/drive; to attempt to forcibly remount, call drive.mount(\"/content/drive\", force_remount=True).\n"
          ]
        },
        {
          "output_type": "display_data",
          "data": {
            "text/plain": [
              "<Figure size 800x500 with 1 Axes>"
            ],
            "image/png": "[encoded data removed]"
          },
          "metadata": {}
        }
      ]
    }
  ]
}