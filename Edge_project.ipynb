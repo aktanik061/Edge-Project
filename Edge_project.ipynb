{
  "nbformat": 4,
  "nbformat_minor": 0,
  "metadata": {
    "colab": {
      "provenance": [],
      "mount_file_id": "1H-sHiDJDYeaqfV5r0i-3DsPLlevarfzI",
      "authorship_tag": "ABX9TyPFL+w70DWTFSgKcJeN1pVV",
      "include_colab_link": true
    },
    "kernelspec": {
      "name": "python3",
      "display_name": "Python 3"
    },
    "language_info": {
      "name": "python"
    }
  },
  "cells": [
    {
      "cell_type": "markdown",
      "metadata": {
        "id": "view-in-github",
        "colab_type": "text"
      },
      "source": [
        "<a href=\"https://colab.research.google.com/github/aktanik061/Edge-Project/blob/main/Edge_project.ipynb\" target=\"_parent\"><img src=\"https://colab.research.google.com/assets/colab-badge.svg\" alt=\"Open In Colab\"/></a>"
      ]
    },
    {
      "cell_type": "code",
      "execution_count": null,
      "metadata": {
        "id": "GOA6u_aVSIbD"
      },
      "outputs": [],
      "source": [
        "import pandas as pd"
      ]
    },
    {
      "cell_type": "code",
      "source": [
        "from google.colab import drive\n",
        "drive.mount(\"/content/drive\")"
      ],
      "metadata": {
        "colab": {
          "base_uri": "https://localhost:8080/"
        },
        "id": "EkCZmEbGht2p",
        "outputId": "4481b534-3919-4cda-f571-f87471ce9ac4"
      },
      "execution_count": null,
      "outputs": [
        {
          "output_type": "stream",
          "name": "stdout",
          "text": [
            "Drive already mounted at /content/drive; to attempt to forcibly remount, call drive.mount(\"/content/drive\", force_remount=True).\n"
          ]
        }
      ]
    },
    {
      "cell_type": "code",
      "source": [
        "path=\"/content/drive/MyDrive/student_detail/student_detail.csv\"\n",
        "df=pd.read_csv(path)\n",
        "pd.set_option('display.max_rows', None)\n",
        "print(df)"
      ],
      "metadata": {
        "colab": {
          "base_uri": "https://localhost:8080/"
        },
        "id": "OLa1vuyhS7eD",
        "outputId": "e19a69a8-d098-4f76-a45c-32576216068c"
      },
      "execution_count": null,
      "outputs": [
        {
          "output_type": "stream",
          "name": "stdout",
          "text": [
            "        Name     ID  Bangla  English   Math  Attendence(%)  \\\n",
            "0      Sakil  20234      56        77    86             90   \n",
            "1      Wasif  20235      34        88    70             80   \n",
            "2       Amin  20236      67        55    67             90   \n",
            "3       Saif  20237      88        83    90            100   \n",
            "4      Sohan  20238      90        33    88             70   \n",
            "5     Saikat  20239      80        24    92             80   \n",
            "6   Solaiman  20240      78        66    79             90   \n",
            "7      Faria  20241      45        50    83            100   \n",
            "8    Madhuri  20242      67        40    36             50   \n",
            "9   Priyanka  20243      69        65    68             80   \n",
            "10    Sristi  20244      75        20    24             65   \n",
            "\n",
            "   Assignment completion  \n",
            "0                    Yes  \n",
            "1                    Yes  \n",
            "2                     No  \n",
            "3                    Yes  \n",
            "4                     No  \n",
            "5                    Yes  \n",
            "6                     No  \n",
            "7                     No  \n",
            "8                    Yes  \n",
            "9                    Yes  \n",
            "10                    No  \n"
          ]
        }
      ]
    },
    {
      "cell_type": "code",
      "source": [
        "import pandas as pd\n",
        "\n",
        "\n",
        "file_path = '/content/drive/MyDrive/student_detail/student_detail.csv'\n",
        "df = pd.read_csv(file_path)\n",
        "print(df)\n",
        "\n",
        "df['Average Score'] = df[['Bangla','English ', 'Math']].mean(axis=1)\n",
        "\n",
        "print(df[['Name', 'ID', 'Average Score']])"
      ],
      "metadata": {
        "colab": {
          "base_uri": "https://localhost:8080/"
        },
        "id": "YL_9YE9SUtPr",
        "outputId": "505e1c5d-891f-4ce0-895c-93249320580d"
      },
      "execution_count": null,
      "outputs": [
        {
          "output_type": "stream",
          "name": "stdout",
          "text": [
            "        Name     ID  Bangla  English   Math  Attendence(%)  \\\n",
            "0      Sakil  20234      56        77    86             90   \n",
            "1      Wasif  20235      34        88    70             80   \n",
            "2       Amin  20236      67        55    67             90   \n",
            "3       Saif  20237      88        83    90            100   \n",
            "4      Sohan  20238      90        33    88             70   \n",
            "5     Saikat  20239      80        24    92             80   \n",
            "6   Solaiman  20240      78        66    79             90   \n",
            "7      Faria  20241      45        50    83            100   \n",
            "8    Madhuri  20242      67        40    36             50   \n",
            "9   Priyanka  20243      69        65    68             80   \n",
            "10    Sristi  20244      75        20    24             65   \n",
            "\n",
            "   Assignment completion  \n",
            "0                    Yes  \n",
            "1                    Yes  \n",
            "2                     No  \n",
            "3                    Yes  \n",
            "4                     No  \n",
            "5                    Yes  \n",
            "6                     No  \n",
            "7                     No  \n",
            "8                    Yes  \n",
            "9                    Yes  \n",
            "10                    No  \n",
            "        Name     ID  Average Score\n",
            "0      Sakil  20234      73.000000\n",
            "1      Wasif  20235      64.000000\n",
            "2       Amin  20236      63.000000\n",
            "3       Saif  20237      87.000000\n",
            "4      Sohan  20238      70.333333\n",
            "5     Saikat  20239      65.333333\n",
            "6   Solaiman  20240      74.333333\n",
            "7      Faria  20241      59.333333\n",
            "8    Madhuri  20242      47.666667\n",
            "9   Priyanka  20243      67.333333\n",
            "10    Sristi  20244      39.666667\n"
          ]
        }
      ]
    },
    {
      "cell_type": "code",
      "source": [
        "df['Maximum'] = df[['Bangla','English ','Math']].max(axis=1)\n",
        "\n",
        "print(df[['Name','ID','Maximum']])"
      ],
      "metadata": {
        "colab": {
          "base_uri": "https://localhost:8080/"
        },
        "id": "k9NeV58yVZYZ",
        "outputId": "4815514d-2ced-4abb-e81d-b8fc89916159"
      },
      "execution_count": null,
      "outputs": [
        {
          "output_type": "stream",
          "name": "stdout",
          "text": [
            "        Name     ID  Maximum\n",
            "0      Sakil  20234       86\n",
            "1      Wasif  20235       88\n",
            "2       Amin  20236       67\n",
            "3       Saif  20237       90\n",
            "4      Sohan  20238       90\n",
            "5     Saikat  20239       92\n",
            "6   Solaiman  20240       79\n",
            "7      Faria  20241       83\n",
            "8    Madhuri  20242       67\n",
            "9   Priyanka  20243       69\n",
            "10    Sristi  20244       75\n"
          ]
        }
      ]
    },
    {
      "cell_type": "code",
      "source": [
        "df['Minimum'] = df[['Bangla','English ','Math']].min(axis=1)\n",
        "\n",
        "print(df[['Name','ID','Minimum']])"
      ],
      "metadata": {
        "colab": {
          "base_uri": "https://localhost:8080/"
        },
        "id": "dFhbLaOfVqLs",
        "outputId": "3b72fdde-4f49-42e0-cfa9-8cb019bf3ac4"
      },
      "execution_count": null,
      "outputs": [
        {
          "output_type": "stream",
          "name": "stdout",
          "text": [
            "        Name     ID  Minimum\n",
            "0      Sakil  20234       56\n",
            "1      Wasif  20235       34\n",
            "2       Amin  20236       55\n",
            "3       Saif  20237       83\n",
            "4      Sohan  20238       33\n",
            "5     Saikat  20239       24\n",
            "6   Solaiman  20240       66\n",
            "7      Faria  20241       45\n",
            "8    Madhuri  20242       36\n",
            "9   Priyanka  20243       65\n",
            "10    Sristi  20244       20\n"
          ]
        }
      ]
    },
    {
      "cell_type": "code",
      "source": [
        "\n",
        "import pandas as pd\n",
        "\n",
        "drive.mount('/content/drive')\n",
        "path = '/content/drive/MyDrive/student_detail/student_detail.csv'\n",
        "df = pd.read_csv(path)\n",
        "\n",
        "students_low_attendance_or_missing = df[(df['Attendence(%)'] < 75) | (df['Assignment completion'] == 'No')]\n",
        "\n",
        "print(\"Students with attendence less than 75%:\")\n",
        "print(students_low_attendance_or_missing)\n",
        "\n",
        "\n"
      ],
      "metadata": {
        "colab": {
          "base_uri": "https://localhost:8080/"
        },
        "id": "jGo7dwJbgpi1",
        "outputId": "f028ad3a-1431-4f8b-da70-a1078abbe338"
      },
      "execution_count": null,
      "outputs": [
        {
          "output_type": "stream",
          "name": "stdout",
          "text": [
            "Drive already mounted at /content/drive; to attempt to forcibly remount, call drive.mount(\"/content/drive\", force_remount=True).\n",
            "Students with attendence less than 75%:\n",
            "        Name     ID  Bangla  English   Math  Attendence(%)  \\\n",
            "2       Amin  20236      67        55    67             90   \n",
            "4      Sohan  20238      90        33    88             70   \n",
            "6   Solaiman  20240      78        66    79             90   \n",
            "7      Faria  20241      45        50    83            100   \n",
            "8    Madhuri  20242      67        40    36             50   \n",
            "10    Sristi  20244      75        20    24             65   \n",
            "\n",
            "   Assignment completion  \n",
            "2                     No  \n",
            "4                     No  \n",
            "6                     No  \n",
            "7                     No  \n",
            "8                    Yes  \n",
            "10                    No  \n"
          ]
        }
      ]
    },
    {
      "cell_type": "code",
      "source": [
        "import pandas as pd\n",
        "drive.mount('/content/drive')\n",
        "path=\"/content/drive/MyDrive/student_detail/student_detail.csv\"\n",
        "df=pd.read_csv(path)\n",
        "\n",
        "Failed_student=df[df['Bangla'or'Math'] < 40]\n",
        "print(\"Failed student: \", Failed_student)"
      ],
      "metadata": {
        "colab": {
          "base_uri": "https://localhost:8080/"
        },
        "id": "5QBVC3h7L8X2",
        "outputId": "e198eaf1-d52b-4e15-a32e-ca21877c7e49"
      },
      "execution_count": null,
      "outputs": [
        {
          "output_type": "stream",
          "name": "stdout",
          "text": [
            "Drive already mounted at /content/drive; to attempt to forcibly remount, call drive.mount(\"/content/drive\", force_remount=True).\n",
            "Failed student:      Name     ID  Bangla  English   Math  Attendence(%) Assignment completion\n",
            "1  Wasif  20235      34        88    70             80                   Yes\n"
          ]
        }
      ]
    },
    {
      "cell_type": "code",
      "source": [
        "import pandas as pd\n",
        "import matplotlib.pyplot as plt\n",
        "from google.colab import drive\n",
        "\n",
        "drive.mount('/content/drive')\n",
        "path = \"/content/drive/MyDrive/student_detail/student_detail.csv\"\n",
        "df = pd.read_csv(path)\n",
        "\n",
        "# Step 2: Calculate Average Score\n",
        "average_scores = {\n",
        "    'Bangla': df['Bangla'].mean(),\n",
        "    'Math': df['Math'].mean(),\n",
        "    'English': df['English '].mean()\n",
        "}\n",
        "\n",
        "plt.figure(figsize=(8, 6))\n",
        "plt.bar(average_scores.keys(), average_scores.values(), color=['blue', 'green','red'])\n",
        "\n",
        "# Step 4: Customize the Chart\n",
        "plt.title('Average Score', fontsize=16)\n",
        "plt.xlabel('Metric', fontsize=12)\n",
        "plt.ylabel('Score', fontsize=12)\n",
        "plt.ylim(0, 100)  # Assuming scores are out of 100\n",
        "\n",
        "plt.tight_layout()\n",
        "plt.show()\n",
        "\n"
      ],
      "metadata": {
        "colab": {
          "base_uri": "https://localhost:8080/",
          "height": 624
        },
        "id": "RS4AszJyQPeY",
        "outputId": "5ae88aa3-a9c1-41b2-b12a-a80e20a969a4"
      },
      "execution_count": null,
      "outputs": [
        {
          "output_type": "stream",
          "name": "stdout",
          "text": [
            "Drive already mounted at /content/drive; to attempt to forcibly remount, call drive.mount(\"/content/drive\", force_remount=True).\n"
          ]
        },
        {
          "output_type": "display_data",
          "data": {
            "text/plain": [
              "<Figure size 800x600 with 1 Axes>"
            ],
            "image/png": "[encoded data removed]"
          },
          "metadata": {}
        }
      ]
    },
    {
      "cell_type": "code",
      "source": [
        "import pandas as pd\n",
        "import matplotlib.pyplot as plt\n",
        "from google.colab import drive\n",
        "\n",
        "# Step 1: Mount Google Drive and Load Data\n",
        "drive.mount('/content/drive')\n",
        "path = \"/content/drive/MyDrive/student_detail/student_detail.csv\"\n",
        "df = pd.read_csv(path)\n",
        "average_scores = {\n",
        "    'Bangla': df['Bangla'].mean(),\n",
        "    'Math': df['Math'].mean(),\n",
        "    'English': df['English '].mean()\n",
        "}\n",
        "\n",
        "plt.figure(figsize=(5,5))\n",
        "plt.pie(\n",
        "    average_scores.values(),\n",
        "    labels=average_scores.keys(),\n",
        "    autopct='%d%%',\n",
        "    startangle=140,\n",
        "    colors=['yellow','green','red'],\n",
        ")\n",
        "plt.title('Average Scores by Subject', fontsize=16)\n",
        "plt.axis('equal')\n",
        "plt.show()"
      ],
      "metadata": {
        "colab": {
          "base_uri": "https://localhost:8080/",
          "height": 463
        },
        "id": "jnKOMJFTo-l6",
        "outputId": "26484241-4136-4fcd-af63-93f8d7044f27"
      },
      "execution_count": null,
      "outputs": [
        {
          "output_type": "stream",
          "name": "stdout",
          "text": [
            "Drive already mounted at /content/drive; to attempt to forcibly remount, call drive.mount(\"/content/drive\", force_remount=True).\n"
          ]
        },
        {
          "output_type": "display_data",
          "data": {
            "text/plain": [
              "<Figure size 500x500 with 1 Axes>"
            ],
            "image/png": "[encoded data removed]"
          },
          "metadata": {}
        }
      ]
    },
    {
      "cell_type": "markdown",
      "source": [],
      "metadata": {
        "id": "-YVOPvZpr3JF"
      }
    }
  ]
}