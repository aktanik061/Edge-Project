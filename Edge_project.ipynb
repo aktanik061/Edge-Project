{
  "nbformat": 4,
  "nbformat_minor": 0,
  "metadata": {
    "colab": {
      "provenance": [],
      "mount_file_id": "1H-sHiDJDYeaqfV5r0i-3DsPLlevarfzI",
      "authorship_tag": "ABX9TyMOOz98FGOJym8vBO5FDJlS",
      "include_colab_link": true
    },
    "kernelspec": {
      "name": "python3",
      "display_name": "Python 3"
    },
    "language_info": {
      "name": "python"
    }
  },
  "cells": [
    {
      "cell_type": "markdown",
      "metadata": {
        "id": "view-in-github",
        "colab_type": "text"
      },
      "source": [
        "<a href=\"https://colab.research.google.com/github/aktanik061/Edge-Project/blob/main/Edge_project.ipynb\" target=\"_parent\"><img src=\"https://colab.research.google.com/assets/colab-badge.svg\" alt=\"Open In Colab\"/></a>"
      ]
    },
    {
      "cell_type": "code",
      "execution_count": 10,
      "metadata": {
        "id": "GOA6u_aVSIbD"
      },
      "outputs": [],
      "source": [
        "import pandas as pd"
      ]
    },
    {
      "cell_type": "code",
      "source": [
        "from google.colab import drive\n",
        "drive.mount(\"/content/drive\")"
      ],
      "metadata": {
        "colab": {
          "base_uri": "https://localhost:8080/"
        },
        "id": "EkCZmEbGht2p",
        "outputId": "6a76384c-553b-46b4-cf0e-0ebd0b4afa16"
      },
      "execution_count": 11,
      "outputs": [
        {
          "output_type": "stream",
          "name": "stdout",
          "text": [
            "Drive already mounted at /content/drive; to attempt to forcibly remount, call drive.mount(\"/content/drive\", force_remount=True).\n"
          ]
        }
      ]
    },
    {
      "cell_type": "code",
      "source": [
        "path=\"/content/drive/MyDrive/student_detail/student_detail.csv\"\n",
        "df=pd.read_csv(path)\n",
        "pd.set_option('display.max_rows', None)\n",
        "print(df)"
      ],
      "metadata": {
        "colab": {
          "base_uri": "https://localhost:8080/"
        },
        "id": "OLa1vuyhS7eD",
        "outputId": "896217ee-10b0-4a61-c731-2cf23145a598"
      },
      "execution_count": 12,
      "outputs": [
        {
          "output_type": "stream",
          "name": "stdout",
          "text": [
            "        Name     ID  Bangla  English   Math  Attendence(%)  \\\n",
            "0      Sakil  20234      56        77    86             90   \n",
            "1      Wasif  20235      34        88    70             80   \n",
            "2       Amin  20236      67        55    67             90   \n",
            "3       Saif  20237      88        83    90             40   \n",
            "4      Sohan  20238      90        33    88             70   \n",
            "5     Saikat  20239      80        24    92             35   \n",
            "6   Solaiman  20240      78        66    79             90   \n",
            "7      Faria  20241      45        50    83             20   \n",
            "8    Madhuri  20242      67        40    36             50   \n",
            "9   Priyanka  20243      69        65    68             80   \n",
            "10    Sristi  20244      75        20    24             65   \n",
            "\n",
            "   Assignment completion  \n",
            "0                    Yes  \n",
            "1                    Yes  \n",
            "2                     No  \n",
            "3                    Yes  \n",
            "4                     No  \n",
            "5                    Yes  \n",
            "6                     No  \n",
            "7                     No  \n",
            "8                    Yes  \n",
            "9                    Yes  \n",
            "10                    No  \n"
          ]
        }
      ]
    },
    {
      "cell_type": "code",
      "source": [
        "import pandas as pd\n",
        "\n",
        "\n",
        "file_path = '/content/drive/MyDrive/student_detail/student_detail.csv'\n",
        "df = pd.read_csv(file_path)\n",
        "print(df)\n",
        "\n",
        "df['Average Score'] = df[['Bangla','English ', 'Math']].mean(axis=1)\n",
        "\n",
        "print(df[['Name', 'ID', 'Average Score']])"
      ],
      "metadata": {
        "colab": {
          "base_uri": "https://localhost:8080/"
        },
        "id": "YL_9YE9SUtPr",
        "outputId": "1e41e702-c212-4bd4-c58d-341f0491480f"
      },
      "execution_count": 13,
      "outputs": [
        {
          "output_type": "stream",
          "name": "stdout",
          "text": [
            "        Name     ID  Bangla  English   Math  Attendence(%)  \\\n",
            "0      Sakil  20234      56        77    86             90   \n",
            "1      Wasif  20235      34        88    70             80   \n",
            "2       Amin  20236      67        55    67             90   \n",
            "3       Saif  20237      88        83    90             40   \n",
            "4      Sohan  20238      90        33    88             70   \n",
            "5     Saikat  20239      80        24    92             35   \n",
            "6   Solaiman  20240      78        66    79             90   \n",
            "7      Faria  20241      45        50    83             20   \n",
            "8    Madhuri  20242      67        40    36             50   \n",
            "9   Priyanka  20243      69        65    68             80   \n",
            "10    Sristi  20244      75        20    24             65   \n",
            "\n",
            "   Assignment completion  \n",
            "0                    Yes  \n",
            "1                    Yes  \n",
            "2                     No  \n",
            "3                    Yes  \n",
            "4                     No  \n",
            "5                    Yes  \n",
            "6                     No  \n",
            "7                     No  \n",
            "8                    Yes  \n",
            "9                    Yes  \n",
            "10                    No  \n",
            "        Name     ID  Average Score\n",
            "0      Sakil  20234      73.000000\n",
            "1      Wasif  20235      64.000000\n",
            "2       Amin  20236      63.000000\n",
            "3       Saif  20237      87.000000\n",
            "4      Sohan  20238      70.333333\n",
            "5     Saikat  20239      65.333333\n",
            "6   Solaiman  20240      74.333333\n",
            "7      Faria  20241      59.333333\n",
            "8    Madhuri  20242      47.666667\n",
            "9   Priyanka  20243      67.333333\n",
            "10    Sristi  20244      39.666667\n"
          ]
        }
      ]
    },
    {
      "cell_type": "code",
      "source": [
        "df['Maximum'] = df[['Bangla','English ','Math']].max(axis=1)\n",
        "\n",
        "print(df[['Name','ID','Maximum']])"
      ],
      "metadata": {
        "colab": {
          "base_uri": "https://localhost:8080/"
        },
        "id": "k9NeV58yVZYZ",
        "outputId": "d14acdec-3e6e-4023-d71d-41629894cde8"
      },
      "execution_count": null,
      "outputs": [
        {
          "output_type": "stream",
          "name": "stdout",
          "text": [
            "        Name     ID  Maximum\n",
            "0      Sakil  20234       86\n",
            "1      Wasif  20235       88\n",
            "2       Amin  20236       67\n",
            "3       Saif  20237       90\n",
            "4      Sohan  20238       90\n",
            "5     Saikat  20239       92\n",
            "6   Solaiman  20240       79\n",
            "7      Faria  20241       83\n",
            "8    Madhuri  20242       67\n",
            "9   Priyanka  20243       69\n",
            "10    Sristi  20244       75\n"
          ]
        }
      ]
    },
    {
      "cell_type": "code",
      "source": [
        "df['Minimum'] = df[['Bangla','English ','Math']].min(axis=1)\n",
        "\n",
        "print(df[['Name','ID','Minimum']])"
      ],
      "metadata": {
        "colab": {
          "base_uri": "https://localhost:8080/"
        },
        "id": "dFhbLaOfVqLs",
        "outputId": "abb61dd2-6aaf-46bb-9fd5-b122cef65ee6"
      },
      "execution_count": 14,
      "outputs": [
        {
          "output_type": "stream",
          "name": "stdout",
          "text": [
            "        Name     ID  Minimum\n",
            "0      Sakil  20234       56\n",
            "1      Wasif  20235       34\n",
            "2       Amin  20236       55\n",
            "3       Saif  20237       83\n",
            "4      Sohan  20238       33\n",
            "5     Saikat  20239       24\n",
            "6   Solaiman  20240       66\n",
            "7      Faria  20241       45\n",
            "8    Madhuri  20242       36\n",
            "9   Priyanka  20243       65\n",
            "10    Sristi  20244       20\n"
          ]
        }
      ]
    },
    {
      "cell_type": "code",
      "source": [
        "\n",
        "import pandas as pd\n",
        "\n",
        "drive.mount('/content/drive')\n",
        "path = '/content/drive/MyDrive/student_detail/student_detail.csv'\n",
        "df = pd.read_csv(path)\n",
        "\n",
        "students_low_attendance_or_missing = df[(df['Attendence(%)'] < 75) | (df['Assignment completion'] == 'No')]\n",
        "\n",
        "print(\"Students with attendence less than 75%:\")\n",
        "print(students_low_attendance_or_missing)\n",
        "\n",
        "\n"
      ],
      "metadata": {
        "colab": {
          "base_uri": "https://localhost:8080/"
        },
        "id": "jGo7dwJbgpi1",
        "outputId": "7c95398e-c2c4-49de-a865-b8049adb1ce0"
      },
      "execution_count": 15,
      "outputs": [
        {
          "output_type": "stream",
          "name": "stdout",
          "text": [
            "Drive already mounted at /content/drive; to attempt to forcibly remount, call drive.mount(\"/content/drive\", force_remount=True).\n",
            "Students with attendence less than 75%:\n",
            "        Name     ID  Bangla  English   Math  Attendence(%)  \\\n",
            "2       Amin  20236      67        55    67             90   \n",
            "3       Saif  20237      88        83    90             40   \n",
            "4      Sohan  20238      90        33    88             70   \n",
            "5     Saikat  20239      80        24    92             35   \n",
            "6   Solaiman  20240      78        66    79             90   \n",
            "7      Faria  20241      45        50    83             20   \n",
            "8    Madhuri  20242      67        40    36             50   \n",
            "10    Sristi  20244      75        20    24             65   \n",
            "\n",
            "   Assignment completion  \n",
            "2                     No  \n",
            "3                    Yes  \n",
            "4                     No  \n",
            "5                    Yes  \n",
            "6                     No  \n",
            "7                     No  \n",
            "8                    Yes  \n",
            "10                    No  \n"
          ]
        }
      ]
    },
    {
      "cell_type": "code",
      "source": [
        "import pandas as pd\n",
        "drive.mount('/content/drive')\n",
        "path=\"/content/drive/MyDrive/student_detail/student_detail.csv\"\n",
        "df=pd.read_csv(path)\n",
        "\n",
        "Failed_student=df[df['Bangla'or'Math'] < 40]\n",
        "print(\"Failed student: \", Failed_student)"
      ],
      "metadata": {
        "colab": {
          "base_uri": "https://localhost:8080/"
        },
        "id": "5QBVC3h7L8X2",
        "outputId": "7709242c-809e-4810-eb8f-5be9669de7d1"
      },
      "execution_count": 16,
      "outputs": [
        {
          "output_type": "stream",
          "name": "stdout",
          "text": [
            "Drive already mounted at /content/drive; to attempt to forcibly remount, call drive.mount(\"/content/drive\", force_remount=True).\n",
            "Failed student:      Name     ID  Bangla  English   Math  Attendence(%) Assignment completion\n",
            "1  Wasif  20235      34        88    70             80                   Yes\n"
          ]
        }
      ]
    },
    {
      "cell_type": "code",
      "source": [
        "import pandas as pd\n",
        "import matplotlib.pyplot as plt\n",
        "from google.colab import drive\n",
        "\n",
        "drive.mount('/content/drive')\n",
        "path = \"/content/drive/MyDrive/student_detail/student_detail.csv\"\n",
        "df = pd.read_csv(path)\n",
        "\n",
        "# Step 2: Calculate Average Score\n",
        "average_scores = {\n",
        "    'Bangla': df['Bangla'].mean(),\n",
        "    'Math': df['Math'].mean(),\n",
        "    'English': df['English '].mean()\n",
        "}\n",
        "\n",
        "plt.figure(figsize=(8, 6))\n",
        "plt.bar(average_scores.keys(), average_scores.values(), color=['blue', 'green','red'])\n",
        "\n",
        "# Step 4: Customize the Chart\n",
        "plt.title('Average Score', fontsize=16)\n",
        "plt.xlabel('Metric', fontsize=12)\n",
        "plt.ylabel('Score', fontsize=12)\n",
        "plt.ylim(0, 100)  # Assuming scores are out of 100\n",
        "\n",
        "plt.tight_layout()\n",
        "plt.show()\n",
        "\n"
      ],
      "metadata": {
        "colab": {
          "base_uri": "https://localhost:8080/",
          "height": 615
        },
        "id": "RS4AszJyQPeY",
        "outputId": "48f06ef6-26f1-4453-d18d-435d7455b641"
      },
      "execution_count": 17,
      "outputs": [
        {
          "output_type": "stream",
          "name": "stdout",
          "text": [
            "Drive already mounted at /content/drive; to attempt to forcibly remount, call drive.mount(\"/content/drive\", force_remount=True).\n"
          ]
        },
        {
          "output_type": "display_data",
          "data": {
            "text/plain": [
              "<Figure size 800x600 with 1 Axes>"
            ],
            "image/png": "[encoded data removed]"
          },
          "metadata": {}
        }
      ]
    },
    {
      "cell_type": "code",
      "source": [
        "import pandas as pd\n",
        "import matplotlib.pyplot as plt\n",
        "from google.colab import drive\n",
        "\n",
        "# Step 1: Mount Google Drive and Load Data\n",
        "drive.mount('/content/drive')\n",
        "path = \"/content/drive/MyDrive/student_detail/student_detail.csv\"\n",
        "df = pd.read_csv(path)\n",
        "average_scores = {\n",
        "    'Bangla': df['Bangla'].mean(),\n",
        "    'Math': df['Math'].mean(),\n",
        "    'English': df['English '].mean()\n",
        "}\n",
        "\n",
        "plt.figure(figsize=(5,5))\n",
        "plt.pie(\n",
        "    average_scores.values(),\n",
        "    labels=average_scores.keys(),\n",
        "    autopct='%d%%',\n",
        "    startangle=140,\n",
        "    colors=['yellow','green','red'],\n",
        ")\n",
        "plt.title('Average Scores by Subject', fontsize=16)\n",
        "plt.axis('equal')\n",
        "plt.show()"
      ],
      "metadata": {
        "colab": {
          "base_uri": "https://localhost:8080/",
          "height": 483
        },
        "id": "jnKOMJFTo-l6",
        "outputId": "347156ae-ae35-4755-8c21-3d767958c965"
      },
      "execution_count": 18,
      "outputs": [
        {
          "output_type": "stream",
          "name": "stdout",
          "text": [
            "Drive already mounted at /content/drive; to attempt to forcibly remount, call drive.mount(\"/content/drive\", force_remount=True).\n"
          ]
        },
        {
          "output_type": "display_data",
          "data": {
            "text/plain": [
              "<Figure size 500x500 with 1 Axes>"
            ],
            "image/png": "[encoded data removed]"
          },
          "metadata": {}
        }
      ]
    },
    {
      "cell_type": "code",
      "source": [
        "import pandas as pd\n",
        "import matplotlib.pyplot as plt\n",
        "from google.colab import drive\n",
        "\n",
        "# Step 1: Mount Google Drive and Load Data\n",
        "drive.mount('/content/drive')\n",
        "path = \"/content/drive/MyDrive/student_detail/student_detail.csv\"\n",
        "df = pd.read_csv(path)\n",
        "def categorize_attendance(value):\n",
        "    if value < 50:\n",
        "        return \"<50%\"\n",
        "    elif 50 <= value <= 75:\n",
        "        return \"50-75%\"\n",
        "    else:\n",
        "        return \">75%\"\n",
        "\n",
        "df[\"Attendance Category\"] = df[\"Attendence(%)\"].apply(categorize_attendance)\n",
        "\n",
        "# Count categories\n",
        "category_counts = df[\"Attendance Category\"].value_counts()\n",
        "\n",
        "# Plot pie chart\n",
        "plt.figure(figsize=(8, 6))\n",
        "plt.pie(\n",
        "    category_counts,\n",
        "    labels=category_counts.index,\n",
        "    autopct=\"%1.1f%%\",\n",
        "    startangle=90,\n",
        "    colors=[\"#66c2a5\", \"#fc8d62\", \"#8da0cb\"],\n",
        "    wedgeprops={\"edgecolor\": \"black\", \"linewidth\": 1}\n",
        ")\n",
        "plt.title(\"Attendance Percentage Categories\", fontsize=14)\n",
        "plt.show()\n",
        "\n",
        "\n",
        "selected_student = \"Sakil\"  # Replace with the desired student's name\n",
        "subjects = [\"Bangla\", \"English \", \"Math\"]\n",
        "performance = df[df[\"Name\"] == selected_student][subjects].values.flatten()\n",
        "\n",
        "plt.figure(figsize=(10, 6))\n",
        "plt.plot(subjects, performance, marker=\"o\", linestyle=\"-\", color=\"g\")\n",
        "plt.xlabel(\"Subjects\", fontsize=12)\n",
        "plt.ylabel(\"Marks\", fontsize=12)\n",
        "plt.title(f\"Performance Trends for {selected_student}\", fontsize=14)\n",
        "plt.ylim(0, 100)\n",
        "plt.grid(True, linestyle=\"--\", alpha=0.7)\n",
        "plt.tight_layout()\n",
        "plt.show()\n",
        "\n"
      ],
      "metadata": {
        "colab": {
          "base_uri": "https://localhost:8080/",
          "height": 997
        },
        "id": "Z1bZNW3qJ72y",
        "outputId": "a88d0e07-7797-49bd-a214-bea4e025bf8c"
      },
      "execution_count": 19,
      "outputs": [
        {
          "output_type": "stream",
          "name": "stdout",
          "text": [
            "Drive already mounted at /content/drive; to attempt to forcibly remount, call drive.mount(\"/content/drive\", force_remount=True).\n"
          ]
        },
        {
          "output_type": "display_data",
          "data": {
            "text/plain": [
              "<Figure size 800x600 with 1 Axes>"
            ],
            "image/png": "[encoded data removed]"
          },
          "metadata": {}
        },
        {
          "output_type": "display_data",
          "data": {
            "text/plain": [
              "<Figure size 1000x600 with 1 Axes>"
            ],
            "image/png": "[encoded data removed]"
          },
          "metadata": {}
        }
      ]
    },
    {
      "cell_type": "markdown",
      "source": [],
      "metadata": {
        "id": "cswWO25AB_2C"
      }
    },
    {
      "cell_type": "code",
      "source": [
        "import pandas as pd\n",
        "import matplotlib.pyplot as plt\n",
        "from google.colab import drive\n",
        "\n",
        "# Step 1: Mount Google Drive and Load Data\n",
        "drive.mount('/content/drive')\n",
        "path = \"/content/drive/MyDrive/student_detail/student_detail.csv\"\n",
        "df = pd.read_csv(path)\n",
        "\n",
        "# Calculate aggregate scores for each student\n",
        "df[\"Aggregate Score\"] = df[[\"Bangla\", \"English \", \"Math\"]].sum(axis=1)\n",
        "\n",
        "# Display aggregate scores\n",
        "print(\"Aggregate Scores for Each Student:\")\n",
        "print(df[[\"Name\", \"Aggregate Score\"]])\n"
      ],
      "metadata": {
        "colab": {
          "base_uri": "https://localhost:8080/"
        },
        "id": "dctQMwVeQVPU",
        "outputId": "8de285df-c966-4d16-fb2a-93468ed5dfc0"
      },
      "execution_count": 20,
      "outputs": [
        {
          "output_type": "stream",
          "name": "stdout",
          "text": [
            "Drive already mounted at /content/drive; to attempt to forcibly remount, call drive.mount(\"/content/drive\", force_remount=True).\n",
            "Aggregate Scores for Each Student:\n",
            "        Name  Aggregate Score\n",
            "0      Sakil              219\n",
            "1      Wasif              192\n",
            "2       Amin              189\n",
            "3       Saif              261\n",
            "4      Sohan              211\n",
            "5     Saikat              196\n",
            "6   Solaiman              223\n",
            "7      Faria              178\n",
            "8    Madhuri              143\n",
            "9   Priyanka              202\n",
            "10    Sristi              119\n"
          ]
        }
      ]
    },
    {
      "cell_type": "code",
      "source": [
        "import pandas as pd\n",
        "import matplotlib.pyplot as plt\n",
        "from google.colab import drive\n",
        "\n",
        "\n",
        "# Mount the drive\n",
        "drive.mount('/content/drive')\n",
        "path = \"/content/drive/MyDrive/student_detail/student_detail.csv\"\n",
        "df = pd.read_csv(path)\n",
        "\n",
        "# Function to determine grade\n",
        "def determine_grade(Bangla):\n",
        "    if 80 <= Bangla <= 100:\n",
        "        return \"A+\"\n",
        "    elif 70 <= Bangla <= 79:\n",
        "        return \"A\"\n",
        "    elif 60<= Bangla<= 69:\n",
        "        return \"A-\"\n",
        "    elif 50 <= Bangla <=59:\n",
        "        return \"B\"\n",
        "    elif 40 <= Bangla <= 49:\n",
        "        return \"C\"\n",
        "    else:\n",
        "        return \"Fail\"\n",
        "def determine_grade(English):\n",
        "    if 80 <= English <= 100:\n",
        "        return \"A+\"\n",
        "    elif 70 <= English <= 79:\n",
        "        return \"A\"\n",
        "    elif 60<= English<= 69:\n",
        "        return \"A-\"\n",
        "    elif 50 <= English <=59:\n",
        "        return \"B\"\n",
        "    elif 40 <= English <= 49:\n",
        "        return \"C\"\n",
        "    else:\n",
        "        return \"Fail\"\n",
        "def determine_grade(Math):\n",
        "    if 80 <= Math <= 100:\n",
        "        return \"A+\"\n",
        "    elif 70 <= Math <= 79:\n",
        "        return \"A\"\n",
        "    elif 60<= Math<= 69:\n",
        "        return \"A-\"\n",
        "    elif 50 <= Math <=59:\n",
        "        return \"B\"\n",
        "    elif 40 <= Math <= 49:\n",
        "        return \"C\"\n",
        "    else:\n",
        "        return \"Fail\"\n",
        "\n",
        "\n",
        "df['Grade'] = df['Bangla'].apply(determine_grade)\n",
        "df['Grade1'] = df['English '].apply(determine_grade)\n",
        "df['Grade2'] = df['Math'].apply(determine_grade)\n",
        "\n",
        "\n",
        "df.to_csv(\"/content/drive/MyDrive/student_detail/graded_data.csv\", index=False)\n",
        "\n",
        "\n",
        "print(df[[\"Name\", \"Bangla\",\"Grade\",\"English \",\"Grade1\",\"Math\",\"Grade2\"]])\n"
      ],
      "metadata": {
        "id": "HPkTpKTG8v0o",
        "colab": {
          "base_uri": "https://localhost:8080/"
        },
        "outputId": "776f8cf7-bce5-4622-a601-9b1ca6c4e065"
      },
      "execution_count": 23,
      "outputs": [
        {
          "output_type": "stream",
          "name": "stdout",
          "text": [
            "Drive already mounted at /content/drive; to attempt to forcibly remount, call drive.mount(\"/content/drive\", force_remount=True).\n",
            "        Name  Bangla Grade  English  Grade1  Math Grade2\n",
            "0      Sakil      56     B        77      A    86     A+\n",
            "1      Wasif      34  Fail        88     A+    70      A\n",
            "2       Amin      67    A-        55      B    67     A-\n",
            "3       Saif      88    A+        83     A+    90     A+\n",
            "4      Sohan      90    A+        33   Fail    88     A+\n",
            "5     Saikat      80    A+        24   Fail    92     A+\n",
            "6   Solaiman      78     A        66     A-    79      A\n",
            "7      Faria      45     C        50      B    83     A+\n",
            "8    Madhuri      67    A-        40      C    36   Fail\n",
            "9   Priyanka      69    A-        65     A-    68     A-\n",
            "10    Sristi      75     A        20   Fail    24   Fail\n"
          ]
        }
      ]
    },
    {
      "cell_type": "code",
      "source": [
        "import pandas as pd\n",
        "import matplotlib.pyplot as plt\n",
        "from google.colab import drive\n",
        "\n",
        "drive.mount('/content/drive')\n",
        "path = \"/content/drive/MyDrive/student_detail/student_detail.csv\"\n",
        "df = pd.read_csv(path)\n",
        "\n",
        "df[\"score\"] = df[[\"Bangla\", \"English \", \"Math\"]].sum(axis=1)\n",
        "\n",
        "def performance(score):\n",
        "    if 240 <= score <= 300:\n",
        "        return \"Excellent\"\n",
        "    elif 210 <= score <= 239:\n",
        "        return \"Very Good\"\n",
        "    elif 180<= score <= 209:\n",
        "        return \"Good\"\n",
        "    elif 150<= score <= 179:\n",
        "        return \"Need Improvement\"\n",
        "    else:\n",
        "        return \"Not satisfied\"\n",
        "\n",
        "df['Performance'] = df['score'].apply(performance)\n",
        "\n",
        "output_path = \"/content/drive/MyDrive/student_detail/graded_data.csv\"\n",
        "df.to_csv(output_path, index=False)\n",
        "\n",
        "print(df[[\"Name\", \"score\", \"Performance\"]])\n",
        "\n"
      ],
      "metadata": {
        "colab": {
          "base_uri": "https://localhost:8080/"
        },
        "id": "MZvuVPSvEjPK",
        "outputId": "779f7166-b4e2-401a-9fdb-1280c221da9f"
      },
      "execution_count": 36,
      "outputs": [
        {
          "output_type": "stream",
          "name": "stdout",
          "text": [
            "Drive already mounted at /content/drive; to attempt to forcibly remount, call drive.mount(\"/content/drive\", force_remount=True).\n",
            "        Name  score       Performance\n",
            "0      Sakil    219         Very Good\n",
            "1      Wasif    192              Good\n",
            "2       Amin    189              Good\n",
            "3       Saif    261         Excellent\n",
            "4      Sohan    211         Very Good\n",
            "5     Saikat    196              Good\n",
            "6   Solaiman    223         Very Good\n",
            "7      Faria    178  Need Improvement\n",
            "8    Madhuri    143     Not satisfied\n",
            "9   Priyanka    202              Good\n",
            "10    Sristi    119     Not satisfied\n"
          ]
        }
      ]
    },
    {
      "cell_type": "code",
      "source": [
        "import csv\n",
        "\n",
        "# Initialize CSV with header\n",
        "header = ['Student Name', 'Student Id', 'Subject', 'Scores', 'Attendance Percentage', 'Assignment Completion(yes/no)']\n",
        "with open('Student Performance.csv', mode='w', newline='') as file:\n",
        "    writer = csv.writer(file)\n",
        "    writer.writerow(header)\n",
        "\n",
        "def input_data():\n",
        "    student_name = input(\"Enter student name: \")\n",
        "    student_id = input(\"Enter student id: \")\n",
        "    subject = input(\"Enter subject: \")\n",
        "    score = input(\"Enter score: \")\n",
        "    attendance_percentage = input(\"Enter attendance percentage: \")\n",
        "    assignment_completion = input(\"Enter assignment completion (yes/no): \")\n",
        "\n",
        "    user_data = [student_name, student_id, subject, score, attendance_percentage, assignment_completion]\n",
        "    with open('Student Performance.csv', 'a', newline='') as csvfile:\n",
        "        csvwriter = csv.writer(csvfile)\n",
        "        csvwriter.writerow(user_data)\n",
        "        print(f\"Data saved to Student Performance.csv\")\n",
        "\n",
        "def search_student():\n",
        "    with open('Student Performance.csv', mode='r') as file:\n",
        "        reader = csv.DictReader(file)\n",
        "        student_id = input(\"Enter student ID: \")\n",
        "        found = False\n",
        "        for student in reader:\n",
        "            if student['Student Id'].lower() == student_id.lower():\n",
        "                print(f\"Student Found: {student}\")\n",
        "                found = True\n",
        "                break\n",
        "        if not found:\n",
        "            print(\"Student not found.\")\n",
        "\n",
        "def update_student_info():\n",
        "    student_id = input(\"Enter student ID: \")\n",
        "    updated = False\n",
        "\n",
        "    # Read all rows into memory\n",
        "    with open('Student Performance.csv', mode='r') as file:\n",
        "        reader = csv.DictReader(file)\n",
        "        rows = list(reader)\n",
        "\n",
        "    # Open the file in write mode to overwrite updated content\n",
        "    with open('Student Performance.csv', mode='w', newline='') as file:\n",
        "        fieldnames = ['Student Name', 'Student Id', 'Subject', 'Scores', 'Attendance Percentage', 'Assignment Completion(yes/no)']\n",
        "        writer = csv.DictWriter(file, fieldnames=fieldnames)\n",
        "        writer.writeheader()\n",
        "\n",
        "        for row in rows:\n",
        "            if row['Student Id'].lower() == student_id.lower():\n",
        "                print(f\"Student found: {row['Student Name']} (ID: {row['Student Id']})\")\n",
        "                print(\"What would you like to update?\")\n",
        "                print(\"1. Score\")\n",
        "                print(\"2. Attendance Percentage\")\n",
        "                option = input(\"Choose an option (1-2): \")\n",
        "\n",
        "                if option == '1':\n",
        "                    new_score = input(f\"Enter the new score for {row['Student Name']}: \")\n",
        "                    row['Scores'] = new_score\n",
        "                elif option == '2':\n",
        "                    new_attendance = input(f\"Enter the new attendance for {row['Student Name']}: \")\n",
        "                    row['Attendance Percentage'] = new_attendance\n",
        "                else:\n",
        "                    print(\"Invalid option.\")\n",
        "                updated = True\n",
        "            writer.writerow(row)\n",
        "\n",
        "    if not updated:\n",
        "        print(\"Student not found or no updates made.\")\n",
        "\n",
        "# Menu loop\n",
        "while True:\n",
        "    print(\"\\nMenu: \")\n",
        "    print(\"1. Add new student\")\n",
        "    print(\"2. Search for a student\")\n",
        "    print(\"3. Update student's score or attendance\")\n",
        "    print(\"4. Exit\")\n",
        "    choice = input(\"Choose an option (1-4): \").strip()\n",
        "\n",
        "    if choice == '1':\n",
        "        input_data()\n",
        "    elif choice == '2':\n",
        "        search_student()\n",
        "    elif choice == '3':\n",
        "        update_student_info()\n",
        "    elif choice == '4':\n",
        "        print(\"Exiting the program. Goodbye!\")\n",
        "        break\n",
        "    else:\n",
        "        print(\"Invalid choice. Please choose a valid option.\")"
      ],
      "metadata": {
        "colab": {
          "base_uri": "https://localhost:8080/"
        },
        "id": "d-qCyVy65irT",
        "outputId": "dde5cb16-984b-4599-efd0-ef916fe47d36"
      },
      "execution_count": 37,
      "outputs": [
        {
          "output_type": "stream",
          "name": "stdout",
          "text": [
            "\n",
            "Menu: \n",
            "1. Add new student\n",
            "2. Search for a student\n",
            "3. Update student's score or attendance\n",
            "4. Exit\n",
            "Choose an option (1-4): 3\n",
            "Enter student ID: STU 1234\n",
            "Student not found or no updates made.\n",
            "\n",
            "Menu: \n",
            "1. Add new student\n",
            "2. Search for a student\n",
            "3. Update student's score or attendance\n",
            "4. Exit\n",
            "Choose an option (1-4): 3\n",
            "Enter student ID: STU 1234\n",
            "Student not found or no updates made.\n",
            "\n",
            "Menu: \n",
            "1. Add new student\n",
            "2. Search for a student\n",
            "3. Update student's score or attendance\n",
            "4. Exit\n",
            "Choose an option (1-4): 4\n",
            "Exiting the program. Goodbye!\n"
          ]
        }
      ]
    },
    {
      "cell_type": "markdown",
      "source": [],
      "metadata": {
        "id": "-YVOPvZpr3JF"
      }
    }
  ]
}