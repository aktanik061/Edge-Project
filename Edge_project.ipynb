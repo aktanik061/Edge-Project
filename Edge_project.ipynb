{
  "nbformat": 4,
  "nbformat_minor": 0,
  "metadata": {
    "colab": {
      "provenance": [],
      "mount_file_id": "1H-sHiDJDYeaqfV5r0i-3DsPLlevarfzI",
      "authorship_tag": "ABX9TyOMrWcu2vhhIDvd/nFPNgSA",
      "include_colab_link": true
    },
    "kernelspec": {
      "name": "python3",
      "display_name": "Python 3"
    },
    "language_info": {
      "name": "python"
    }
  },
  "cells": [
    {
      "cell_type": "markdown",
      "metadata": {
        "id": "view-in-github",
        "colab_type": "text"
      },
      "source": [
        "<a href=\"https://colab.research.google.com/github/aktanik061/Edge-Project/blob/main/Edge_project.ipynb\" target=\"_parent\"><img src=\"https://colab.research.google.com/assets/colab-badge.svg\" alt=\"Open In Colab\"/></a>"
      ]
    },
    {
      "cell_type": "code",
      "execution_count": 2,
      "metadata": {
        "id": "GOA6u_aVSIbD"
      },
      "outputs": [],
      "source": [
        "import pandas as pd"
      ]
    },
    {
      "cell_type": "code",
      "source": [
        "from google.colab import drive\n",
        "drive.mount(\"/content/drive\")"
      ],
      "metadata": {
        "colab": {
          "base_uri": "https://localhost:8080/"
        },
        "id": "EkCZmEbGht2p",
        "outputId": "6b4658d5-7d69-4757-fe9b-abe8431ac0b1"
      },
      "execution_count": 20,
      "outputs": [
        {
          "output_type": "stream",
          "name": "stdout",
          "text": [
            "Drive already mounted at /content/drive; to attempt to forcibly remount, call drive.mount(\"/content/drive\", force_remount=True).\n"
          ]
        }
      ]
    },
    {
      "cell_type": "code",
      "source": [
        "path=\"/content/drive/MyDrive/student_detail/student_detail.csv\"\n",
        "df=pd.read_csv(path)\n",
        "pd.set_option('display.max_rows', None)\n",
        "print(df)"
      ],
      "metadata": {
        "colab": {
          "base_uri": "https://localhost:8080/"
        },
        "id": "OLa1vuyhS7eD",
        "outputId": "2251f91c-01bf-4c64-cdbe-f80ee1a9c08f"
      },
      "execution_count": 13,
      "outputs": [
        {
          "output_type": "stream",
          "name": "stdout",
          "text": [
            "       Name     ID Subject  Score  Attendence(%) Assignment completion\n",
            "0     Sakil  20234    Math     86             90                   Yes\n",
            "1     Wasif  20235    Math     70             80                   Yes\n",
            "2      Amin  20236    Math     67             90                    No\n",
            "3      Saif  20237    Math     90            100                   Yes\n",
            "4     Sohan  20238    Math     88             70                    No\n",
            "5    Saikat  20239    Math     92             80                   Yes\n",
            "6  Solaiman  20240    Math     79             90                    No\n",
            "7     Faria  20241    Math     83            100                    No\n",
            "8   Madhuri  20242    Math     55             50                   Yes\n",
            "9  Priyanka  20243    Math     68             80                   Yes\n"
          ]
        }
      ]
    },
    {
      "cell_type": "code",
      "source": [
        "average = df['Score'].mean()\n",
        "\n",
        "print(f\"The average of the score is: {average}\")"
      ],
      "metadata": {
        "colab": {
          "base_uri": "https://localhost:8080/"
        },
        "id": "YL_9YE9SUtPr",
        "outputId": "810543fd-cedf-4a87-c2c4-3a467c6739cd"
      },
      "execution_count": 14,
      "outputs": [
        {
          "output_type": "stream",
          "name": "stdout",
          "text": [
            "The average of the score is: 77.8\n"
          ]
        }
      ]
    },
    {
      "cell_type": "code",
      "source": [
        "Maximum = df['Score'].max()\n",
        "\n",
        "print(f\"The maximum score is: {Maximum}\")"
      ],
      "metadata": {
        "colab": {
          "base_uri": "https://localhost:8080/"
        },
        "id": "k9NeV58yVZYZ",
        "outputId": "1704ebdf-1d43-42da-8b49-d1a7cb52d702"
      },
      "execution_count": 15,
      "outputs": [
        {
          "output_type": "stream",
          "name": "stdout",
          "text": [
            "The maximum score is: 92\n"
          ]
        }
      ]
    },
    {
      "cell_type": "code",
      "source": [
        "Minimum = df['Score'].min()\n",
        "\n",
        "print(f\"The minimum score is: {Minimum}\")"
      ],
      "metadata": {
        "colab": {
          "base_uri": "https://localhost:8080/"
        },
        "id": "dFhbLaOfVqLs",
        "outputId": "f612e39f-059f-4035-c707-2d6c93970141"
      },
      "execution_count": 16,
      "outputs": [
        {
          "output_type": "stream",
          "name": "stdout",
          "text": [
            "The minimum score is: 55\n"
          ]
        }
      ]
    },
    {
      "cell_type": "code",
      "source": [
        "\n",
        "import pandas as pd\n",
        "\n",
        "# Step 1: Mount Google Drive\n",
        "drive.mount('/content/drive')\n",
        "\n",
        "# Step 2: Read the CSV file from Google Drive\n",
        "path = '/content/drive/MyDrive/student_detail/student_detail.csv'  # Replace with your actual file path in Google Drive\n",
        "df = pd.read_csv(path)\n",
        "\n",
        "# Step 3: Filter students with attendance < 70%\n",
        "students_low_attendance = df[df['Attendence(%)'] < 70]\n",
        "\n",
        "# Step 4: Display the filtered students\n",
        "print(\"Students with attendence less than 70%:\")\n",
        "print(students_low_attendance)\n",
        "\n",
        "\n"
      ],
      "metadata": {
        "colab": {
          "base_uri": "https://localhost:8080/"
        },
        "id": "jGo7dwJbgpi1",
        "outputId": "ac80056e-7249-4014-ba9f-4ccaa059ab91"
      },
      "execution_count": 25,
      "outputs": [
        {
          "output_type": "stream",
          "name": "stdout",
          "text": [
            "Drive already mounted at /content/drive; to attempt to forcibly remount, call drive.mount(\"/content/drive\", force_remount=True).\n",
            "Students with attendence less than 70%:\n",
            "      Name     ID Subject  Score  Attendence(%) Assignment completion\n",
            "8  Madhuri  20242    Math     55             50                   Yes\n"
          ]
        }
      ]
    }
  ]
}